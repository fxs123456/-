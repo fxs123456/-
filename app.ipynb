{
 "cells": [
  {
   "cell_type": "code",
   "execution_count": 28,
   "metadata": {},
   "outputs": [
    {
     "name": "stdout",
     "output_type": "stream",
     "text": [
      "torch version : 1.4.0\n"
     ]
    }
   ],
   "source": [
    "from flask import Flask, render_template, request\n",
    "import numpy as np\n",
    "import torch\n",
    "import re\n",
    "import base64\n",
    "import Ipynb_importer\n",
    "import cnn\n",
    "import heapq\n",
    "from torchvision import transforms\n",
    "from PIL import Image\n",
    "from torch.autograd import Variable\n",
    "from datetime import timedelta\n",
    "print(\"torch version : {}\".format(torch.__version__))"
   ]
  },
  {
   "cell_type": "code",
   "execution_count": 29,
   "metadata": {},
   "outputs": [],
   "source": [
    "app = Flask(__name__)\n",
    "app.send_file_max_age_default = timedelta(seconds = 1)\n",
    "\n",
    "model_file = './model.pth'\n",
    "model = torch.load(model_file)"
   ]
  },
  {
   "cell_type": "code",
   "execution_count": 30,
   "metadata": {},
   "outputs": [],
   "source": [
    "@app.route('/')\n",
    "def index():\n",
    "    return render_template(\"index.html\")"
   ]
  },
  {
   "cell_type": "code",
   "execution_count": 31,
   "metadata": {},
   "outputs": [],
   "source": [
    "@app.route('/predict/', methods = ['Get', 'POST'])\n",
    "def process():\n",
    "    parseImage(request.get_data())\n",
    "    img = to_transform()\n",
    "    response = predict(img)\n",
    "\n",
    "    return response"
   ]
  },
  {
   "cell_type": "code",
   "execution_count": 32,
   "metadata": {},
   "outputs": [],
   "source": [
    "def parseImage(imgData):\n",
    "    imgStr = re.search(b'base64,(.*)', imgData).group(1)\n",
    "#     print(imgStr)\n",
    "    with open('./output.png', 'wb') as output:\n",
    "        output.write(base64.decodebytes(imgStr))\n",
    "    "
   ]
  },
  {
   "cell_type": "code",
   "execution_count": 33,
   "metadata": {},
   "outputs": [],
   "source": [
    "def to_transform():\n",
    "    img = Image.open('output.png')\n",
    "    df_transforms = transforms.Compose(\n",
    "        [transforms.Resize((28, 28)), transforms.Grayscale(num_output_channels = 1), transforms.ToTensor()])\n",
    "    copy_img = df_transforms(img)\n",
    "    copy_img = copy_img.unsqueeze(0)\n",
    "    return copy_img"
   ]
  },
  {
   "cell_type": "code",
   "execution_count": 34,
   "metadata": {},
   "outputs": [],
   "source": [
    "def softmax(X):\n",
    "    X_exp = X.exp()\n",
    "    partition = X_exp.sum(dim = 0)\n",
    "    return X_exp / partition "
   ]
  },
  {
   "cell_type": "code",
   "execution_count": 35,
   "metadata": {},
   "outputs": [],
   "source": [
    "def predict(img):\n",
    "    if torch.cuda.is_available:\n",
    "        img = img.cuda()\n",
    "    out = model(img)\n",
    "    _, pred = torch.max(out, 1)\n",
    "    print(pred)\n",
    "    out = out.squeeze(0)\n",
    "    lst = softmax(out.detach()).cpu().numpy()\n",
    "    h1, h2, h3 = heapq.nlargest(3,range(len(lst)), lst.take)\n",
    "    str1 = '{:.2%}'.format(lst[h1])\n",
    "    str2 = '{:.2%}'.format(lst[h2])\n",
    "    str3 = '{:.2%}'.format(lst[h3])\n",
    "    \n",
    "    resp = pred[0].cpu().numpy()\n",
    "    return '{},{},{},{},{},{},{}'.format(str(resp), str(h1), str1, str(h2), str2, str(h3), str3)\n"
   ]
  },
  {
   "cell_type": "code",
   "execution_count": 36,
   "metadata": {},
   "outputs": [
    {
     "name": "stdout",
     "output_type": "stream",
     "text": [
      " * Serving Flask app \"__main__\" (lazy loading)\n",
      " * Environment: production\n",
      "   WARNING: This is a development server. Do not use it in a production deployment.\n",
      "   Use a production WSGI server instead.\n",
      " * Debug mode: off\n"
     ]
    },
    {
     "name": "stderr",
     "output_type": "stream",
     "text": [
      " * Running on http://127.0.0.1:8080/ (Press CTRL+C to quit)\n",
      "127.0.0.1 - - [31/May/2020 15:13:55] \"GET / HTTP/1.1\" 200 -\n",
      "127.0.0.1 - - [31/May/2020 15:13:55] \"GET /static/style.css HTTP/1.1\" 200 -\n",
      "127.0.0.1 - - [31/May/2020 15:13:55] \"GET /static/jquery-3.2.0.min.js HTTP/1.1\" 304 -\n",
      "127.0.0.1 - - [31/May/2020 15:13:55] \"GET /static/index.js HTTP/1.1\" 304 -\n"
     ]
    },
    {
     "name": "stdout",
     "output_type": "stream",
     "text": [
      "tensor([1], device='cuda:0')\n"
     ]
    },
    {
     "name": "stderr",
     "output_type": "stream",
     "text": [
      "127.0.0.1 - - [31/May/2020 15:13:59] \"POST /predict/ HTTP/1.1\" 200 -\n"
     ]
    },
    {
     "name": "stdout",
     "output_type": "stream",
     "text": [
      "tensor([2], device='cuda:0')\n"
     ]
    },
    {
     "name": "stderr",
     "output_type": "stream",
     "text": [
      "127.0.0.1 - - [31/May/2020 15:14:02] \"POST /predict/ HTTP/1.1\" 200 -\n",
      "127.0.0.1 - - [31/May/2020 15:14:05] \"GET / HTTP/1.1\" 200 -\n",
      "127.0.0.1 - - [31/May/2020 15:14:05] \"GET /static/style.css HTTP/1.1\" 304 -\n",
      "127.0.0.1 - - [31/May/2020 15:14:05] \"GET /static/jquery-3.2.0.min.js HTTP/1.1\" 304 -\n",
      "127.0.0.1 - - [31/May/2020 15:14:05] \"GET /static/index.js HTTP/1.1\" 304 -\n"
     ]
    },
    {
     "name": "stdout",
     "output_type": "stream",
     "text": [
      "tensor([0], device='cuda:0')\n"
     ]
    },
    {
     "name": "stderr",
     "output_type": "stream",
     "text": [
      "127.0.0.1 - - [31/May/2020 15:14:12] \"POST /predict/ HTTP/1.1\" 200 -\n"
     ]
    },
    {
     "name": "stdout",
     "output_type": "stream",
     "text": [
      "tensor([1], device='cuda:0')\n"
     ]
    },
    {
     "name": "stderr",
     "output_type": "stream",
     "text": [
      "127.0.0.1 - - [31/May/2020 15:14:13] \"POST /predict/ HTTP/1.1\" 200 -\n"
     ]
    },
    {
     "name": "stdout",
     "output_type": "stream",
     "text": [
      "tensor([2], device='cuda:0')\n"
     ]
    },
    {
     "name": "stderr",
     "output_type": "stream",
     "text": [
      "127.0.0.1 - - [31/May/2020 15:14:15] \"POST /predict/ HTTP/1.1\" 200 -\n"
     ]
    },
    {
     "name": "stdout",
     "output_type": "stream",
     "text": [
      "tensor([3], device='cuda:0')\n"
     ]
    },
    {
     "name": "stderr",
     "output_type": "stream",
     "text": [
      "127.0.0.1 - - [31/May/2020 15:14:17] \"POST /predict/ HTTP/1.1\" 200 -\n"
     ]
    },
    {
     "name": "stdout",
     "output_type": "stream",
     "text": [
      "tensor([4], device='cuda:0')\n"
     ]
    },
    {
     "name": "stderr",
     "output_type": "stream",
     "text": [
      "127.0.0.1 - - [31/May/2020 15:14:19] \"POST /predict/ HTTP/1.1\" 200 -\n"
     ]
    },
    {
     "name": "stdout",
     "output_type": "stream",
     "text": [
      "tensor([5], device='cuda:0')\n"
     ]
    },
    {
     "name": "stderr",
     "output_type": "stream",
     "text": [
      "127.0.0.1 - - [31/May/2020 15:14:22] \"POST /predict/ HTTP/1.1\" 200 -\n"
     ]
    },
    {
     "name": "stdout",
     "output_type": "stream",
     "text": [
      "tensor([6], device='cuda:0')\n"
     ]
    },
    {
     "name": "stderr",
     "output_type": "stream",
     "text": [
      "127.0.0.1 - - [31/May/2020 15:14:24] \"POST /predict/ HTTP/1.1\" 200 -\n"
     ]
    },
    {
     "name": "stdout",
     "output_type": "stream",
     "text": [
      "tensor([7], device='cuda:0')\n"
     ]
    },
    {
     "name": "stderr",
     "output_type": "stream",
     "text": [
      "127.0.0.1 - - [31/May/2020 15:14:25] \"POST /predict/ HTTP/1.1\" 200 -\n"
     ]
    },
    {
     "name": "stdout",
     "output_type": "stream",
     "text": [
      "tensor([8], device='cuda:0')\n"
     ]
    },
    {
     "name": "stderr",
     "output_type": "stream",
     "text": [
      "127.0.0.1 - - [31/May/2020 15:14:28] \"POST /predict/ HTTP/1.1\" 200 -\n"
     ]
    },
    {
     "name": "stdout",
     "output_type": "stream",
     "text": [
      "tensor([9], device='cuda:0')\n"
     ]
    },
    {
     "name": "stderr",
     "output_type": "stream",
     "text": [
      "127.0.0.1 - - [31/May/2020 15:14:30] \"POST /predict/ HTTP/1.1\" 200 -\n",
      "127.0.0.1 - - [31/May/2020 15:15:21] \"GET / HTTP/1.1\" 200 -\n",
      "127.0.0.1 - - [31/May/2020 15:15:21] \"GET /static/style.css HTTP/1.1\" 304 -\n",
      "127.0.0.1 - - [31/May/2020 15:15:21] \"GET /static/jquery-3.2.0.min.js HTTP/1.1\" 304 -\n",
      "127.0.0.1 - - [31/May/2020 15:15:21] \"GET /static/index.js HTTP/1.1\" 304 -\n"
     ]
    },
    {
     "name": "stdout",
     "output_type": "stream",
     "text": [
      "tensor([0], device='cuda:0')\n"
     ]
    },
    {
     "name": "stderr",
     "output_type": "stream",
     "text": [
      "127.0.0.1 - - [31/May/2020 15:15:43] \"POST /predict/ HTTP/1.1\" 200 -\n"
     ]
    },
    {
     "name": "stdout",
     "output_type": "stream",
     "text": [
      "tensor([1], device='cuda:0')\n"
     ]
    },
    {
     "name": "stderr",
     "output_type": "stream",
     "text": [
      "127.0.0.1 - - [31/May/2020 15:15:45] \"POST /predict/ HTTP/1.1\" 200 -\n",
      "127.0.0.1 - - [31/May/2020 15:15:53] \"GET / HTTP/1.1\" 200 -\n",
      "127.0.0.1 - - [31/May/2020 15:15:53] \"GET /static/style.css HTTP/1.1\" 304 -\n",
      "127.0.0.1 - - [31/May/2020 15:15:53] \"GET /static/jquery-3.2.0.min.js HTTP/1.1\" 304 -\n",
      "127.0.0.1 - - [31/May/2020 15:15:53] \"GET /static/index.js HTTP/1.1\" 304 -\n"
     ]
    },
    {
     "name": "stdout",
     "output_type": "stream",
     "text": [
      "tensor([0], device='cuda:0')\n"
     ]
    },
    {
     "name": "stderr",
     "output_type": "stream",
     "text": [
      "127.0.0.1 - - [31/May/2020 15:15:59] \"POST /predict/ HTTP/1.1\" 200 -\n"
     ]
    },
    {
     "name": "stdout",
     "output_type": "stream",
     "text": [
      "tensor([1], device='cuda:0')\n"
     ]
    },
    {
     "name": "stderr",
     "output_type": "stream",
     "text": [
      "127.0.0.1 - - [31/May/2020 15:16:00] \"POST /predict/ HTTP/1.1\" 200 -\n"
     ]
    },
    {
     "name": "stdout",
     "output_type": "stream",
     "text": [
      "tensor([2], device='cuda:0')\n"
     ]
    },
    {
     "name": "stderr",
     "output_type": "stream",
     "text": [
      "127.0.0.1 - - [31/May/2020 15:16:03] \"POST /predict/ HTTP/1.1\" 200 -\n",
      "127.0.0.1 - - [31/May/2020 15:16:07] \"GET / HTTP/1.1\" 200 -\n",
      "127.0.0.1 - - [31/May/2020 15:16:07] \"GET /static/style.css HTTP/1.1\" 304 -\n",
      "127.0.0.1 - - [31/May/2020 15:16:07] \"GET /static/jquery-3.2.0.min.js HTTP/1.1\" 304 -\n",
      "127.0.0.1 - - [31/May/2020 15:16:07] \"GET /static/index.js HTTP/1.1\" 304 -\n",
      "127.0.0.1 - - [31/May/2020 15:16:23] \"GET / HTTP/1.1\" 200 -\n",
      "127.0.0.1 - - [31/May/2020 15:16:23] \"GET /static/style.css HTTP/1.1\" 304 -\n",
      "127.0.0.1 - - [31/May/2020 15:16:23] \"GET /static/jquery-3.2.0.min.js HTTP/1.1\" 304 -\n",
      "127.0.0.1 - - [31/May/2020 15:16:23] \"GET /static/index.js HTTP/1.1\" 304 -\n"
     ]
    },
    {
     "name": "stdout",
     "output_type": "stream",
     "text": [
      "tensor([0], device='cuda:0')\n"
     ]
    },
    {
     "name": "stderr",
     "output_type": "stream",
     "text": [
      "127.0.0.1 - - [31/May/2020 15:16:27] \"POST /predict/ HTTP/1.1\" 200 -\n"
     ]
    },
    {
     "name": "stdout",
     "output_type": "stream",
     "text": [
      "tensor([1], device='cuda:0')\n"
     ]
    },
    {
     "name": "stderr",
     "output_type": "stream",
     "text": [
      "127.0.0.1 - - [31/May/2020 15:16:29] \"POST /predict/ HTTP/1.1\" 200 -\n"
     ]
    },
    {
     "name": "stdout",
     "output_type": "stream",
     "text": [
      "tensor([2], device='cuda:0')\n"
     ]
    },
    {
     "name": "stderr",
     "output_type": "stream",
     "text": [
      "127.0.0.1 - - [31/May/2020 15:16:31] \"POST /predict/ HTTP/1.1\" 200 -\n"
     ]
    },
    {
     "name": "stdout",
     "output_type": "stream",
     "text": [
      "tensor([3], device='cuda:0')\n"
     ]
    },
    {
     "name": "stderr",
     "output_type": "stream",
     "text": [
      "127.0.0.1 - - [31/May/2020 15:16:33] \"POST /predict/ HTTP/1.1\" 200 -\n"
     ]
    },
    {
     "name": "stdout",
     "output_type": "stream",
     "text": [
      "tensor([4], device='cuda:0')\n"
     ]
    },
    {
     "name": "stderr",
     "output_type": "stream",
     "text": [
      "127.0.0.1 - - [31/May/2020 15:16:35] \"POST /predict/ HTTP/1.1\" 200 -\n"
     ]
    },
    {
     "name": "stdout",
     "output_type": "stream",
     "text": [
      "tensor([5], device='cuda:0')\n"
     ]
    },
    {
     "name": "stderr",
     "output_type": "stream",
     "text": [
      "127.0.0.1 - - [31/May/2020 15:16:37] \"POST /predict/ HTTP/1.1\" 200 -\n"
     ]
    },
    {
     "name": "stdout",
     "output_type": "stream",
     "text": [
      "tensor([2], device='cuda:0')\n"
     ]
    },
    {
     "name": "stderr",
     "output_type": "stream",
     "text": [
      "127.0.0.1 - - [31/May/2020 15:16:39] \"POST /predict/ HTTP/1.1\" 200 -\n",
      "127.0.0.1 - - [31/May/2020 15:16:44] \"GET / HTTP/1.1\" 200 -\n",
      "127.0.0.1 - - [31/May/2020 15:16:44] \"GET /static/style.css HTTP/1.1\" 304 -\n",
      "127.0.0.1 - - [31/May/2020 15:16:44] \"GET /static/jquery-3.2.0.min.js HTTP/1.1\" 304 -\n",
      "127.0.0.1 - - [31/May/2020 15:16:44] \"GET /static/index.js HTTP/1.1\" 304 -\n",
      "127.0.0.1 - - [31/May/2020 15:16:55] \"GET / HTTP/1.1\" 200 -\n",
      "127.0.0.1 - - [31/May/2020 15:16:55] \"GET /static/style.css HTTP/1.1\" 304 -\n",
      "127.0.0.1 - - [31/May/2020 15:16:55] \"GET /static/jquery-3.2.0.min.js HTTP/1.1\" 304 -\n",
      "127.0.0.1 - - [31/May/2020 15:16:55] \"GET /static/index.js HTTP/1.1\" 304 -\n"
     ]
    },
    {
     "name": "stdout",
     "output_type": "stream",
     "text": [
      "tensor([0], device='cuda:0')\n"
     ]
    },
    {
     "name": "stderr",
     "output_type": "stream",
     "text": [
      "127.0.0.1 - - [31/May/2020 15:16:59] \"POST /predict/ HTTP/1.1\" 200 -\n"
     ]
    },
    {
     "name": "stdout",
     "output_type": "stream",
     "text": [
      "tensor([1], device='cuda:0')\n"
     ]
    },
    {
     "name": "stderr",
     "output_type": "stream",
     "text": [
      "127.0.0.1 - - [31/May/2020 15:17:00] \"POST /predict/ HTTP/1.1\" 200 -\n"
     ]
    },
    {
     "name": "stdout",
     "output_type": "stream",
     "text": [
      "tensor([2], device='cuda:0')\n"
     ]
    },
    {
     "name": "stderr",
     "output_type": "stream",
     "text": [
      "127.0.0.1 - - [31/May/2020 15:17:03] \"POST /predict/ HTTP/1.1\" 200 -\n",
      "127.0.0.1 - - [31/May/2020 15:17:09] \"GET / HTTP/1.1\" 200 -\n",
      "127.0.0.1 - - [31/May/2020 15:17:09] \"GET /static/style.css HTTP/1.1\" 304 -\n",
      "127.0.0.1 - - [31/May/2020 15:17:09] \"GET /static/jquery-3.2.0.min.js HTTP/1.1\" 304 -\n",
      "127.0.0.1 - - [31/May/2020 15:17:09] \"GET /static/index.js HTTP/1.1\" 304 -\n",
      "127.0.0.1 - - [31/May/2020 15:17:21] \"GET / HTTP/1.1\" 200 -\n",
      "127.0.0.1 - - [31/May/2020 15:17:21] \"GET /static/style.css HTTP/1.1\" 304 -\n",
      "127.0.0.1 - - [31/May/2020 15:17:21] \"GET /static/jquery-3.2.0.min.js HTTP/1.1\" 304 -\n",
      "127.0.0.1 - - [31/May/2020 15:17:21] \"GET /static/index.js HTTP/1.1\" 304 -\n",
      "127.0.0.1 - - [31/May/2020 15:17:45] \"GET / HTTP/1.1\" 200 -\n",
      "127.0.0.1 - - [31/May/2020 15:17:45] \"GET /static/style.css HTTP/1.1\" 304 -\n",
      "127.0.0.1 - - [31/May/2020 15:17:46] \"GET /static/jquery-3.2.0.min.js HTTP/1.1\" 304 -\n",
      "127.0.0.1 - - [31/May/2020 15:17:46] \"GET /static/index.js HTTP/1.1\" 304 -\n"
     ]
    },
    {
     "name": "stdout",
     "output_type": "stream",
     "text": [
      "tensor([0], device='cuda:0')\n"
     ]
    },
    {
     "name": "stderr",
     "output_type": "stream",
     "text": [
      "127.0.0.1 - - [31/May/2020 15:18:38] \"POST /predict/ HTTP/1.1\" 200 -\n",
      "127.0.0.1 - - [31/May/2020 15:18:44] \"GET / HTTP/1.1\" 200 -\n",
      "127.0.0.1 - - [31/May/2020 15:18:44] \"GET /static/style.css HTTP/1.1\" 304 -\n",
      "127.0.0.1 - - [31/May/2020 15:18:44] \"GET /static/jquery-3.2.0.min.js HTTP/1.1\" 304 -\n",
      "127.0.0.1 - - [31/May/2020 15:18:44] \"GET /static/index.js HTTP/1.1\" 304 -\n"
     ]
    },
    {
     "name": "stdout",
     "output_type": "stream",
     "text": [
      "tensor([0], device='cuda:0')\n"
     ]
    },
    {
     "name": "stderr",
     "output_type": "stream",
     "text": [
      "127.0.0.1 - - [31/May/2020 15:18:48] \"POST /predict/ HTTP/1.1\" 200 -\n"
     ]
    },
    {
     "name": "stdout",
     "output_type": "stream",
     "text": [
      "tensor([1], device='cuda:0')\n"
     ]
    },
    {
     "name": "stderr",
     "output_type": "stream",
     "text": [
      "127.0.0.1 - - [31/May/2020 15:18:49] \"POST /predict/ HTTP/1.1\" 200 -\n"
     ]
    },
    {
     "name": "stdout",
     "output_type": "stream",
     "text": [
      "tensor([2], device='cuda:0')\n"
     ]
    },
    {
     "name": "stderr",
     "output_type": "stream",
     "text": [
      "127.0.0.1 - - [31/May/2020 15:18:51] \"POST /predict/ HTTP/1.1\" 200 -\n"
     ]
    },
    {
     "name": "stdout",
     "output_type": "stream",
     "text": [
      "tensor([3], device='cuda:0')\n"
     ]
    },
    {
     "name": "stderr",
     "output_type": "stream",
     "text": [
      "127.0.0.1 - - [31/May/2020 15:18:53] \"POST /predict/ HTTP/1.1\" 200 -\n"
     ]
    },
    {
     "name": "stdout",
     "output_type": "stream",
     "text": [
      "tensor([4], device='cuda:0')\n"
     ]
    },
    {
     "name": "stderr",
     "output_type": "stream",
     "text": [
      "127.0.0.1 - - [31/May/2020 15:18:56] \"POST /predict/ HTTP/1.1\" 200 -\n"
     ]
    },
    {
     "name": "stdout",
     "output_type": "stream",
     "text": [
      "tensor([5], device='cuda:0')\n"
     ]
    },
    {
     "name": "stderr",
     "output_type": "stream",
     "text": [
      "127.0.0.1 - - [31/May/2020 15:18:58] \"POST /predict/ HTTP/1.1\" 200 -\n"
     ]
    },
    {
     "name": "stdout",
     "output_type": "stream",
     "text": [
      "tensor([6], device='cuda:0')\n"
     ]
    },
    {
     "name": "stderr",
     "output_type": "stream",
     "text": [
      "127.0.0.1 - - [31/May/2020 15:19:00] \"POST /predict/ HTTP/1.1\" 200 -\n"
     ]
    },
    {
     "name": "stdout",
     "output_type": "stream",
     "text": [
      "tensor([7], device='cuda:0')\n"
     ]
    },
    {
     "name": "stderr",
     "output_type": "stream",
     "text": [
      "127.0.0.1 - - [31/May/2020 15:19:02] \"POST /predict/ HTTP/1.1\" 200 -\n"
     ]
    },
    {
     "name": "stdout",
     "output_type": "stream",
     "text": [
      "tensor([8], device='cuda:0')\n"
     ]
    },
    {
     "name": "stderr",
     "output_type": "stream",
     "text": [
      "127.0.0.1 - - [31/May/2020 15:19:04] \"POST /predict/ HTTP/1.1\" 200 -\n"
     ]
    },
    {
     "name": "stdout",
     "output_type": "stream",
     "text": [
      "tensor([9], device='cuda:0')\n"
     ]
    },
    {
     "name": "stderr",
     "output_type": "stream",
     "text": [
      "127.0.0.1 - - [31/May/2020 15:19:07] \"POST /predict/ HTTP/1.1\" 200 -\n"
     ]
    }
   ],
   "source": [
    "app.run(host = \"127.0.0.1\", port = 8080)"
   ]
  },
  {
   "cell_type": "code",
   "execution_count": null,
   "metadata": {},
   "outputs": [],
   "source": []
  }
 ],
 "metadata": {
  "kernelspec": {
   "display_name": "Python 3",
   "language": "python",
   "name": "python3"
  },
  "language_info": {
   "codemirror_mode": {
    "name": "ipython",
    "version": 3
   },
   "file_extension": ".py",
   "mimetype": "text/x-python",
   "name": "python",
   "nbconvert_exporter": "python",
   "pygments_lexer": "ipython3",
   "version": "3.7.4"
  }
 },
 "nbformat": 4,
 "nbformat_minor": 2
}
