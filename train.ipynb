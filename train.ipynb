{
 "cells": [
  {
   "cell_type": "code",
   "execution_count": 1,
   "metadata": {},
   "outputs": [
    {
     "name": "stdout",
     "output_type": "stream",
     "text": [
      "importing Jupyter notebook from cnn.ipynb\n",
      "CNN(\n",
      "  (layer1): Sequential(\n",
      "    (0): Conv2d(1, 16, kernel_size=(3, 3), stride=(1, 1))\n",
      "    (1): BatchNorm2d(16, eps=1e-05, momentum=0.1, affine=True, track_running_stats=True)\n",
      "    (2): ReLU(inplace=True)\n",
      "  )\n",
      "  (layer2): Sequential(\n",
      "    (0): Conv2d(16, 32, kernel_size=(3, 3), stride=(1, 1))\n",
      "    (1): BatchNorm2d(32, eps=1e-05, momentum=0.1, affine=True, track_running_stats=True)\n",
      "    (2): ReLU(inplace=True)\n",
      "    (3): MaxPool2d(kernel_size=2, stride=2, padding=0, dilation=1, ceil_mode=False)\n",
      "  )\n",
      "  (layer3): Sequential(\n",
      "    (0): Conv2d(32, 64, kernel_size=(3, 3), stride=(1, 1))\n",
      "    (1): BatchNorm2d(64, eps=1e-05, momentum=0.1, affine=True, track_running_stats=True)\n",
      "    (2): ReLU(inplace=True)\n",
      "  )\n",
      "  (layer4): Sequential(\n",
      "    (0): Conv2d(64, 128, kernel_size=(3, 3), stride=(1, 1))\n",
      "    (1): BatchNorm2d(128, eps=1e-05, momentum=0.1, affine=True, track_running_stats=True)\n",
      "    (2): ReLU(inplace=True)\n",
      "    (3): MaxPool2d(kernel_size=2, stride=2, padding=0, dilation=1, ceil_mode=False)\n",
      "  )\n",
      "  (fc): Sequential(\n",
      "    (0): Linear(in_features=2048, out_features=1024, bias=True)\n",
      "    (1): ReLU(inplace=True)\n",
      "    (2): Linear(in_features=1024, out_features=128, bias=True)\n",
      "    (3): ReLU(inplace=True)\n",
      "    (4): Linear(in_features=128, out_features=10, bias=True)\n",
      "  )\n",
      ")\n",
      "1.4.0\n"
     ]
    }
   ],
   "source": [
    "import torch\n",
    "from torch import nn, optim\n",
    "from torch.autograd import Variable\n",
    "from torch.utils.data import DataLoader\n",
    "from torchvision import datasets, transforms\n",
    "import Ipynb_importer\n",
    "import cnn\n",
    "print(torch.__version__)"
   ]
  },
  {
   "cell_type": "code",
   "execution_count": 2,
   "metadata": {},
   "outputs": [],
   "source": [
    "batch_size = 128\n",
    "learning_rate = 0.01\n",
    "num_epoches = 20"
   ]
  },
  {
   "cell_type": "code",
   "execution_count": 3,
   "metadata": {},
   "outputs": [],
   "source": [
    "data_tf = transforms.Compose(\n",
    "    [transforms.ToTensor(),\n",
    "     transforms.Normalize([0.5], [0.5])])"
   ]
  },
  {
   "cell_type": "code",
   "execution_count": 4,
   "metadata": {},
   "outputs": [],
   "source": [
    "train_dataset = datasets.MNIST(root='./data', train=True, transform=data_tf, download=True)\n",
    "test_dataset = datasets.MNIST(root='./data', train=False, transform=data_tf)\n",
    "train_loader = DataLoader(train_dataset, batch_size=batch_size, shuffle=True)\n",
    "test_loader = DataLoader(test_dataset, batch_size=batch_size, shuffle=False)"
   ]
  },
  {
   "cell_type": "code",
   "execution_count": 5,
   "metadata": {},
   "outputs": [],
   "source": [
    "def train():\n",
    "    model = cnn.CNN()\n",
    "\n",
    "    if torch.cuda.is_available():\n",
    "        print(\"CUDA is available\")\n",
    "        model = model.cuda()\n",
    "\n",
    "    criterion = nn.CrossEntropyLoss()\n",
    "    optimizer = optim.SGD(model.parameters(), lr = learning_rate, momentum = 0.9)\n",
    "    \n",
    "    for i in range(num_epoches):\n",
    "        epoch = 0\n",
    "        for img, label in train_loader:\n",
    "            if torch.cuda.is_available():\n",
    "                img = Variable(img).cuda()\n",
    "                label = Variable(label).cuda()\n",
    "            else:\n",
    "                img = Variable(img)\n",
    "                label = Variable(label)\n",
    "            out = model(img)\n",
    "            loss = criterion(out, label)\n",
    "            print_loss = loss.data.item()\n",
    "            optimizer.zero_grad()\n",
    "            loss.backward()\n",
    "            optimizer.step()\n",
    "            epoch += 1\n",
    "\n",
    "        model.eval()\n",
    "        eval_loss = 0\n",
    "        eval_acc = 0\n",
    "        for img, label in test_loader:\n",
    "            img = Variable(img)\n",
    "            if torch.cuda.is_available():\n",
    "                img = Variable(img).cuda()\n",
    "                label = Variable(label).cuda()\n",
    "            else:\n",
    "                img = Variable(img)\n",
    "                label = Variable(label)\n",
    "            out = model(img)\n",
    "            loss = criterion(out, label)\n",
    "            eval_loss += loss.data.item() * label.size(0)\n",
    "            _, pred = torch.max(out, 1)\n",
    "            num_correct = (pred == label).sum()\n",
    "            eval_acc += num_correct.item()\n",
    "        print('EPOCH: ', i + 1)\n",
    "        print('Test Loss: {:.6f}, Acc: {:.6f}'.format(\n",
    "            eval_loss / (len(test_dataset)),\n",
    "            eval_acc / (len(test_dataset))\n",
    "        ))\n",
    "        i += 1\n",
    "\n",
    "    torch.save(model, 'model.pth')"
   ]
  },
  {
   "cell_type": "code",
   "execution_count": 6,
   "metadata": {},
   "outputs": [
    {
     "name": "stdout",
     "output_type": "stream",
     "text": [
      "CUDA is available\n",
      "EPOCH:  1\n",
      "Test Loss: 0.057134, Acc: 0.980100\n",
      "EPOCH:  2\n",
      "Test Loss: 0.032668, Acc: 0.990200\n",
      "EPOCH:  3\n",
      "Test Loss: 0.021693, Acc: 0.993200\n",
      "EPOCH:  4\n",
      "Test Loss: 0.027549, Acc: 0.991000\n",
      "EPOCH:  5\n",
      "Test Loss: 0.019438, Acc: 0.993800\n",
      "EPOCH:  6\n",
      "Test Loss: 0.035363, Acc: 0.989700\n",
      "EPOCH:  7\n",
      "Test Loss: 0.020524, Acc: 0.993800\n",
      "EPOCH:  8\n",
      "Test Loss: 0.027407, Acc: 0.992300\n",
      "EPOCH:  9\n",
      "Test Loss: 0.022215, Acc: 0.993800\n",
      "EPOCH:  10\n",
      "Test Loss: 0.023826, Acc: 0.994100\n",
      "EPOCH:  11\n",
      "Test Loss: 0.035618, Acc: 0.992200\n",
      "EPOCH:  12\n",
      "Test Loss: 0.032982, Acc: 0.990500\n",
      "EPOCH:  13\n",
      "Test Loss: 0.022878, Acc: 0.994300\n",
      "EPOCH:  14\n",
      "Test Loss: 0.024934, Acc: 0.993300\n",
      "EPOCH:  15\n",
      "Test Loss: 0.031029, Acc: 0.992600\n",
      "EPOCH:  16\n",
      "Test Loss: 0.027602, Acc: 0.993700\n",
      "EPOCH:  17\n",
      "Test Loss: 0.025094, Acc: 0.994600\n",
      "EPOCH:  18\n",
      "Test Loss: 0.025762, Acc: 0.994600\n",
      "EPOCH:  19\n",
      "Test Loss: 0.026771, Acc: 0.994600\n",
      "EPOCH:  20\n",
      "Test Loss: 0.027016, Acc: 0.994600\n"
     ]
    },
    {
     "name": "stderr",
     "output_type": "stream",
     "text": [
      "E:\\anaconda\\lib\\site-packages\\torch\\serialization.py:360: UserWarning: Couldn't retrieve source code for container of type CNN. It won't be checked for correctness upon loading.\n",
      "  \"type \" + obj.__name__ + \". It won't be checked \"\n"
     ]
    }
   ],
   "source": [
    "train()"
   ]
  },
  {
   "cell_type": "code",
   "execution_count": null,
   "metadata": {},
   "outputs": [],
   "source": []
  }
 ],
 "metadata": {
  "kernelspec": {
   "display_name": "Python 3",
   "language": "python",
   "name": "python3"
  },
  "language_info": {
   "codemirror_mode": {
    "name": "ipython",
    "version": 3
   },
   "file_extension": ".py",
   "mimetype": "text/x-python",
   "name": "python",
   "nbconvert_exporter": "python",
   "pygments_lexer": "ipython3",
   "version": "3.7.4"
  }
 },
 "nbformat": 4,
 "nbformat_minor": 2
}
