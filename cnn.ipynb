{
 "cells": [
  {
   "cell_type": "code",
   "execution_count": 1,
   "metadata": {},
   "outputs": [],
   "source": [
    "from torch import nn\n",
    "from torchviz import make_dot, make_dot_from_trace\n",
    "from torch.autograd import Variable\n",
    "import torch"
   ]
  },
  {
   "cell_type": "code",
   "execution_count": 4,
   "metadata": {},
   "outputs": [],
   "source": [
    "class CNN(nn.Module):\n",
    "    def __init__(self):\n",
    "        super(CNN, self).__init__()\n",
    "#         torch.Size([batch_size, 1, 28, 28])\n",
    "        self.layer1 = nn.Sequential(nn.Conv2d(1, 16, kernel_size = 3),  \n",
    "                                    nn.BatchNorm2d(16),\n",
    "                                    nn.ReLU(inplace = True))\n",
    "#         torch.Size([batch_size, 16, 26, 26])\n",
    "        self.layer2 = nn.Sequential(nn.Conv2d(16, 32, kernel_size = 3),   \n",
    "#         torch.Size([batch_size, 32, 24, 24])\n",
    "                                    nn.BatchNorm2d(32),\n",
    "                                    nn.ReLU(inplace = True),\n",
    "                                    nn.MaxPool2d(kernel_size = 2, stride = 2)) \n",
    "#         torch.Size([batch_size, 32, 12, 12])\n",
    "        self.layer3 = nn.Sequential(nn.Conv2d(32, 64, kernel_size = 3),                \n",
    "                                    nn.BatchNorm2d(64),\n",
    "                                    nn.ReLU(inplace = True))\n",
    "#         torch.Size([batch_size, 64, 10, 10])\n",
    "        self.layer4 = nn.Sequential(nn.Conv2d(64, 128, kernel_size = 3),  \n",
    "#         torch.Size([batch_size, 128, 8, 8])\n",
    "                                    nn.BatchNorm2d(128),\n",
    "                                    nn.ReLU(inplace = True),\n",
    "                                    nn.MaxPool2d(kernel_size = 2, stride = 2))  \n",
    "#         torch.Size([batch_size, 128, 4, 4])\n",
    "        self.fc = nn.Sequential(nn.Linear(128 * 4 * 4, 1024),\n",
    "                                nn.ReLU(inplace = True),\n",
    "                                nn.Linear(1024, 128),\n",
    "                                nn.ReLU(inplace = True),\n",
    "                                nn.Linear(128, 10))\n",
    "\n",
    "    def forward(self, x):\n",
    "        x = self.layer1(x)\n",
    "        x = self.layer2(x)\n",
    "        x = self.layer3(x)\n",
    "        x = self.layer4(x)\n",
    "        x = x.view(x.size(0), -1)\n",
    "        x = self.fc(x)\n",
    "        return x"
   ]
  },
  {
   "cell_type": "code",
   "execution_count": 5,
   "metadata": {},
   "outputs": [
    {
     "name": "stdout",
     "output_type": "stream",
     "text": [
      "CNN(\n",
      "  (layer1): Sequential(\n",
      "    (0): Conv2d(1, 16, kernel_size=(3, 3), stride=(1, 1))\n",
      "    (1): BatchNorm2d(16, eps=1e-05, momentum=0.1, affine=True, track_running_stats=True)\n",
      "    (2): ReLU(inplace=True)\n",
      "  )\n",
      "  (layer2): Sequential(\n",
      "    (0): Conv2d(16, 32, kernel_size=(3, 3), stride=(1, 1))\n",
      "    (1): BatchNorm2d(32, eps=1e-05, momentum=0.1, affine=True, track_running_stats=True)\n",
      "    (2): ReLU(inplace=True)\n",
      "    (3): MaxPool2d(kernel_size=2, stride=2, padding=0, dilation=1, ceil_mode=False)\n",
      "  )\n",
      "  (layer3): Sequential(\n",
      "    (0): Conv2d(32, 64, kernel_size=(3, 3), stride=(1, 1))\n",
      "    (1): BatchNorm2d(64, eps=1e-05, momentum=0.1, affine=True, track_running_stats=True)\n",
      "    (2): ReLU(inplace=True)\n",
      "  )\n",
      "  (layer4): Sequential(\n",
      "    (0): Conv2d(64, 128, kernel_size=(3, 3), stride=(1, 1))\n",
      "    (1): BatchNorm2d(128, eps=1e-05, momentum=0.1, affine=True, track_running_stats=True)\n",
      "    (2): ReLU(inplace=True)\n",
      "    (3): MaxPool2d(kernel_size=2, stride=2, padding=0, dilation=1, ceil_mode=False)\n",
      "  )\n",
      "  (fc): Sequential(\n",
      "    (0): Linear(in_features=2048, out_features=1024, bias=True)\n",
      "    (1): ReLU(inplace=True)\n",
      "    (2): Linear(in_features=1024, out_features=128, bias=True)\n",
      "    (3): ReLU(inplace=True)\n",
      "    (4): Linear(in_features=128, out_features=10, bias=True)\n",
      "  )\n",
      ")\n"
     ]
    }
   ],
   "source": [
    "model = CNN()\n",
    "print(model)\n",
    "# g=make_dot(model(torch.rand(1,1,28,28)),params=dict(model.named_parameters()))\n",
    "# g.view()"
   ]
  },
  {
   "cell_type": "code",
   "execution_count": null,
   "metadata": {},
   "outputs": [],
   "source": []
  }
 ],
 "metadata": {
  "kernelspec": {
   "display_name": "Python 3",
   "language": "python",
   "name": "python3"
  },
  "language_info": {
   "codemirror_mode": {
    "name": "ipython",
    "version": 3
   },
   "file_extension": ".py",
   "mimetype": "text/x-python",
   "name": "python",
   "nbconvert_exporter": "python",
   "pygments_lexer": "ipython3",
   "version": "3.7.4"
  }
 },
 "nbformat": 4,
 "nbformat_minor": 2
}
